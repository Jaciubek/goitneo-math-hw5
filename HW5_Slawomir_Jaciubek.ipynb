{
  "nbformat": 4,
  "nbformat_minor": 0,
  "metadata": {
    "colab": {
      "provenance": []
    },
    "kernelspec": {
      "name": "python3",
      "display_name": "Python 3"
    },
    "language_info": {
      "name": "python"
    }
  },
  "cells": [
    {
      "cell_type": "markdown",
      "source": [
        "Homework. Derivatives. Differential equations\n",
        "\n",
        "Task 1\n",
        "\n",
        "Find the derivative for the following functions:\n",
        "\n",
        "1.\n",
        "\n",
        "\n",
        "![CodeCogsEqn.gif](data:image/gif;base64,R0lGODdh9gAVALMAAP///wAAAO7u7oiIiFRUVLq6ujIyMqqqqpiYmERERNzc3BAQECIiIszMzGZmZnZ2diwAAAAA9gAVAAAE/hDISau9OOvNu/9gKGrCkXTlOa5s67ZM8850exxGd+c1Kwy9YAdIOQSEyKRFweMwlSACNKggBBQUgYPi2E6/tWdHDM4MCpTBw5E4lDEIxIBAlDSOlQNissDWCgYyLWpsbm9kG4g0hG0dTQAPfgIBe0ICHA+VAAF1CCoVPA2fLwoDd4IrkRKTml9kag+xsXWKL6oArBt6FDETDgxICGgaD58LUhJ0Fw9uD8M9AagjvRK/h48atS7UANYaCX4SC5oPeEHCH7nizxQFUpdC0RvSFuMT5SL0HwrAY/019iTg07Dg26MBAw40CFfggAMFBRA4gJcBnYcBTRQEuJGwQsEk/vIIfkhwMOHCDB8xNHwYcSKAAg/GhVMZE8HMHiTTmPTzb0lIAAkqEQjlRtQeBuwuWNwg0YsEBH3EUdzEwQGBq1izPsjwswICGScUtLqgEVXQZNgAfAUKQKyFBkXPIhViNavdrdl+ngUwtG3aCQY0eZpAAC+RO5fGKk2qwRO8wnzYLZgKTZ+dBGoQGGAMSvAnyBVEZd5s4XCAxG8+BJ4wONnWBn8htQoIYEHSORrqXjVgQOuGnLWfdWVAuUZXCwg4YZqtyTYc5Rpwp/6QiQJt5wJ6sm6l0c8dCwYMdViKgQAqB6cnTTDiUcnxCaIfDEhg+Sn3K3bMUYg/vz6A8NN5/hAHBd3lx4cFDbEGwHcSzPfSgxrBU0dFnE2gkXhWtPWPMtZVZdddXNW3VlgTtiPeHgwC4GBSI7ZVIoSnNYiEbh+ChuCJC5qz4n9TNeBAAUA6JM4qBmwVBzAIEKfWTYtt8AA8AixARD+AVKDAKEEEUOGBGfgI5EpD4lKkWhik5BWSStoUIAZeBunFRwKMuUdHfARgp51eFODADT4iIIACzEDEjH8UkIeBGnOIB9MBLw4YhAAPWFGkf1vWdieeEujJpwN+qoQBoAcIqtCaZV4aQJ57KsTpJVUEaOgMCRRH6qy04iQrFALcykKrtfbq6wwKOPXrCC4Na+yxHiSI7AdrDS3r7LMEQuuEtNQOGwEAOw==)"
      ],
      "metadata": {
        "id": "PQc3JZxgFTfg"
      }
    },
    {
      "cell_type": "code",
      "execution_count": null,
      "metadata": {
        "colab": {
          "base_uri": "https://localhost:8080/"
        },
        "id": "WCVx0YERFGcU",
        "outputId": "d6703c2e-22a8-44c4-a17a-13a4ebe94a03"
      },
      "outputs": [
        {
          "output_type": "stream",
          "name": "stdout",
          "text": [
            "The derivative of the function is f(x) = 2*a*x + 3*b with respect to x is: 2*a\n"
          ]
        }
      ],
      "source": [
        "import sympy as sp\n",
        "\n",
        "a, b, x = sp.symbols('a b x')\n",
        "\n",
        "f = 2*a*x + 3*b\n",
        "\n",
        "df = sp.diff(f, x)\n",
        "\n",
        "print(\"The derivative of the function f(x) = 2*a*x + 3*b with respect to x is:\", df)"
      ]
    },
    {
      "cell_type": "markdown",
      "source": [
        "2.\n",
        "\n",
        "![CodeCogsEqn (1).png](data:image/png;base64,iVBORw0KGgoAAAANSUhEUgAAAcEAAAAVBAMAAADMTUhWAAAAMFBMVEX///8AAADu7u6IiIhUVFS6uroyMjKqqqqYmJhERETc3NwQEBAiIiLMzMxmZmZ2dnZogOZuAAAACXBIWXMAAA7EAAAOxAGVKw4bAAAEoUlEQVRYCc1VS4gcVRQ96Z6arunumkkPRCQQLd0IEqRBxQ/GyaJxp/bCYXSVXvjbSNqNRsFQgorK5IMLJyvpQSIIonEXcOEQ0F2ksxmZxSSNjIgiMRLDSKJp77v33XrvTSrMtAbiW9T9nvPOrXpVBfjrwFU/unF+5ciAyUqvjcR511FpVzsSuLC52hy7UFj4r8mP8SRTVF4ZienVjrSrHQnsmkvN3E86sb1rearYMZDTxaXC7DLek/wnheXrJasdqai9Xt8m+TG/PrW1Z3gPUNnu4zb1h9JxUya8H4jvfdhK3J2GWs+FoYmil2i8DJODoDTzc9fFjk9zpVPibZjQcLmVbLy9+uzU2tbowUsOZDxDU766ECY5YsoO8BPWbPVxsSUb4jt1yKbsV/fsIttBrcehvUz1Sre62PFpbqxfHg6HTeiEKReES3tQH+SuODTZzHB4ETqhlbWM8Z7fyTSXcUfmkql1DSU9jugoViVT7vfYidsSx0+I5evb1jcTrmPFqwD1Pn7NE44vT+2piqsT+lx501uD3BVHJ1NrZS2gvKGTJJ3G5JKDK7+hnOihnmlpFk12dcLV81ohqygz4VMID0otw++mNTEX5ePAJBC1y2zxmZiAy6KQnB2YqkOhumQSyK2VtQvRCSnolSSdxNR2DXOtTFkDth040kV08PjhuxuNC9ylE2Y04dwvT//ASX/Cmj2zjhMfGp/YLJ8GjF9s3G4KiK68z3bDhIxCPDkwRQmMnHTfyZ7JQK3ISnYimeZ8fjE3HROda7QyZR1YHGAB3yfH6m2F2AljnEfSXcm+4bw/4TbpXGvRkl9d1exyaKKaWT4NHF4gcvW5LAoZTygUoRxFiqyIJtxJKW9znnCx7/ay/ExJb8aZDPNoJtOxMsFOuEoTlnEmzbjgq6qlea91xjNyVmbeobvEfBo4vI/wuSwq6fOEQhHKUWT+DGnIYPGEL16jVSiX6Z638XKK8l4FrbUee5afTEYTAveZ/GSr9XyrxWfY0NVTk/TXnxy82SQjfAAHFu+3buCyjbH9AVmUk6NQlUWnpVJwSqcyagy1CuVuem+6ZsLxrlLRD7Jt/Pi34bd/Ay/YvH/f5WVxAMSZCVZmHuornw0c3usO30NBHR7+tZ/AEiCQo0h7tHagckJTYs1Nf9e4oVahJK0TTTyC9mJqv3fUaKmAjxBVp+0HtmBC9yrMwZxxeomalk8DhzcKdPlcFkW4AZWFIpSjKCvrmJw3tzlowqiLzO2l/IZyPEWyhOfipfnUfueIz5twPj4V93gLRe2g6FPOuEvy4+xBE/GzNXx54PCuO/+aw3Dp51MmFIpQjiKtrGcw3tOUWKI5Ozs3cHupVjNhuUvVR9vV9ePrdEbs0gnPfXX5i9f3vSFZQZX+uIVOLh8J7SZbazRuM2HEOeLLA4fnkr34XIpKrnzdozJThHIUaWVVHrikGbYs6ctGY+D2En4wZXVv0C2BThiULIpzHwSV0QOfa+voQlmF8IC/SGwpLcDd6XKFt8WVN/c8rs2b845CWXnVdwL+z/3KFv3JdIuN/4s2+giNvA6NjLipgN7ou/8LyOib3CDEP/taPmnMZt88AAAAAElFTkSuQmCC)"
      ],
      "metadata": {
        "id": "qr8FfNdjWWyI"
      }
    },
    {
      "cell_type": "code",
      "source": [
        "import sympy as sp\n",
        "\n",
        "x = sp.symbols('x')\n",
        "\n",
        "f = 6*x**2 + 4*x + 1\n",
        "\n",
        "df = sp.diff(f, x)\n",
        "\n",
        "print(\"The derivative of the function f(x) = 6*x**2 + 4*x + 1 with respect to x is:\", df)"
      ],
      "metadata": {
        "colab": {
          "base_uri": "https://localhost:8080/"
        },
        "id": "sajtHeD-Yrvp",
        "outputId": "ada76823-6e46-427c-b613-e0cde6d61b72"
      },
      "execution_count": null,
      "outputs": [
        {
          "output_type": "stream",
          "name": "stdout",
          "text": [
            "The derivative of the function f(x) = 6*x**2 + 4*x + 1 with respect to x is: 12*x + 4\n"
          ]
        }
      ]
    },
    {
      "cell_type": "markdown",
      "source": [
        "3.\\\n",
        "![CodeCogsEqn (2).png](data:image/png;base64,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)"
      ],
      "metadata": {
        "id": "owPXXrZJZB-B"
      }
    },
    {
      "cell_type": "code",
      "source": [
        "import sympy as sp\n",
        "\n",
        "x = sp.symbols('x')\n",
        "\n",
        "f = sp.root(2*x, 3)\n",
        "\n",
        "df = sp.diff(f, x)\n",
        "\n",
        "print(\"The derivative of the function f(x) = (2*x)**(1/3) with respect to x is:\", df)"
      ],
      "metadata": {
        "colab": {
          "base_uri": "https://localhost:8080/"
        },
        "id": "7wBv5aYe6L-8",
        "outputId": "e3364b7d-94c4-4ef7-b193-418e9f57a68f"
      },
      "execution_count": null,
      "outputs": [
        {
          "output_type": "stream",
          "name": "stdout",
          "text": [
            "The derivative of the function f(x) = (2*x)**(1/3) with respect to x is: 2**(1/3)/(3*x**(2/3))\n"
          ]
        }
      ]
    },
    {
      "cell_type": "markdown",
      "source": [
        "4.\\\n",
        "![CodeCogsEqn (3).png](data:image/png;base64,iVBORw0KGgoAAAANSUhEUgAAAH0AAAATBAMAAABPUB88AAAAMFBMVEX///8AAABmZmZUVFSYmJiIiIh2dnZERESqqqrc3Nzu7u4iIiLMzMwQEBAyMjK6uro86s6gAAAACXBIWXMAAA7EAAAOxAGVKw4bAAABvUlEQVQ4EdWRv2vUYBjHP3f50aR3Z66rIBwUOweVzq/1Bo8uN/gH1OIQQdTBwfEoN2gHyS0uIpeCg+O5d4gOtotgoYOD4A0VHByyCN3q8yYtlzSvf4APBPJ8n8+H930SVhWmstdh3zS4nIWXg/Pewuv+Y1SJQ5zt50USzEoTi2av1LLAKikhD9lTeeZnpZFFJy61LLBKKv4+zfLB52OLgypoxsQ/xu1WUd1ZPKmGZkx8WJpj9wftHbx77+6kBDvTjcQikUmlluZ4d18K9Aj6/TjHcn+SMubB+046/aK8pxy2n7Uyq1CbN3Vt5Y1gt1jnOm/xlKtyLPdP4HGaZBNGmzghw/ZVW+5fqxOcObv2nEbq/l4uMO27Ct5cG7ENa1hD+VUS1n3BGkJ2FHup/+FbgWm/r0963eU7/KARw5WRyRdsksgTcxv8+wUmfjBCifHVm2V+l1cB2SRxLs5f7K+xj7Asz09+0Skw8T+dnfYsgqG7pWS3NduebSaDC19frSiNtWIGrdQOxfpTYPJ2tLLSC07HtKPEUXze9aNplNZ9jfnROPEjWeTshSow8c1V/35m7n/3V5VxL/uGMa6FfwGKTnJuzo/hHwAAAABJRU5ErkJggg==)"
      ],
      "metadata": {
        "id": "8Onecihp6nCv"
      }
    },
    {
      "cell_type": "code",
      "source": [
        "import sympy as sp\n",
        "\n",
        "x = sp.symbols('x')\n",
        "\n",
        "f = 2 * sp.sin(x)\n",
        "\n",
        "df = sp.diff(f, x)\n",
        "\n",
        "print(\"The derivative of the function f(x) = 2 * sp.sin(x) with respect to x is:\", df)"
      ],
      "metadata": {
        "colab": {
          "base_uri": "https://localhost:8080/"
        },
        "id": "XeaBV3by9EcE",
        "outputId": "5e9a397a-de66-4fee-bbd0-92c172955b20"
      },
      "execution_count": 2,
      "outputs": [
        {
          "output_type": "stream",
          "name": "stdout",
          "text": [
            "The derivative of the function f(x) = 2 * sp.sin(x) with respect to x is: 2*cos(x)\n"
          ]
        }
      ]
    },
    {
      "cell_type": "markdown",
      "source": [
        "5.\\\n",
        "![CodeCogsEqn (4).png](data:image/png;base64,iVBORw0KGgoAAAANSUhEUgAAASAAAAATBAMAAADCNM0EAAAAMFBMVEX///8AAADu7u6IiIhUVFS6uroyMjKqqqqYmJhERETc3NwQEBAiIiLMzMxmZmZ2dnZogOZuAAAACXBIWXMAAA7EAAAOxAGVKw4bAAADAUlEQVRIDZ1TS2gTURQ9TUwznUmaRDciKCluXXSh2J0BXbiRBqREQTEoYjdCrAtrURm70CAuigW1gjDFD4Kg1Y1FEGLBpTDdKG40VF0oIhUXLYKfe99k8t6bTwy9MPfde+455w1v3gCJQURGktCMGzlSwa2yYcUaIuiwLsYj0QROxcwUuCRrVqwhSlIjHHbInqvknxstYBz4rs+U7lCrTpZ1RZsifdqQKHZ9qXlArENVF/zCgO0hvcBzfaZ091o1kTRFmyLRNsRFzkls9IA4h7Ttzf38Gv0Nr87VslM+GrvSMaoKyZOoxKiiW/lNAxB06HP0+TxyeQ9JlXJlfRbR3QJUhWC4nCWqqSwbPzQAQQeLxunLE0gP/QbqdQfoq6Ly9cASMJfQpX5HrLdNnJ6s7yMOg1IhKAITqK/Q1utin1iHDJH3Yhgf8RBpO2cDs2629s5+BeSFT/8ejmXpSazJ2gvz8DzOAg3GNYXhTj0Q5FmXlk8sHhZ9K5mbeZ94h/v0Y1UxZlTR4+ZO8pmMIonFog08pSYiiJUy82mjge0wq0zQFNnp1eNCNSpyKPXa6OjwBuixAfq2A6758hn9B9TRVhQLnJQ4OENxE8zKNdG/jN3IVmkeUBgbhEagUp1i8YwNrKKzwzY68SI9Di4Sky5cnU1OcJrjFBHEslxYZWxCokFzXZGd/nmbRQLlQg/Dpr6TgwUsAgl6jtFrWEjVYKfM9Rj0Xyh0h5h1LoVZpKtlfumAgu7QHdqTUVpCd6gCQ+wT69BbRMbBlYxrlFDCfrwfqTSvGguGA3OKDCOCWX8NXKKPZuMowgpxsuwTIc5+Hrkg9ol1SNZgrowXzRU64pEzNp4UCs3HE0fOA+JwIzyZ9WEMQ8iuFLETYUWZRewTIbYKhS1in1gHsxQhE1BfMW6i4HeVGl0pVAHXIYdrQYbfa0wfDK7aO3Sl+K/DoyDD75f8otNqNpVpVwqFL8qQA/0OkWG4kXAQrEigS4UUeFXIwQkyvN6MhoOoQlPKIKtTr8io/Ae3ugnICj12AQAAAABJRU5ErkJggg==)"
      ],
      "metadata": {
        "id": "SrB1Bfvd9Nfm"
      }
    },
    {
      "cell_type": "code",
      "source": [
        "import sympy as sp\n",
        "\n",
        "x = sp.symbols('x')\n",
        "\n",
        "f = sp.cos(2*x)\n",
        "\n",
        "df = sp.diff(f, x)\n",
        "\n",
        "print(\"The derivative of the function f(x) = sp.cos(2*x) with respect to x is:\", df)"
      ],
      "metadata": {
        "colab": {
          "base_uri": "https://localhost:8080/"
        },
        "id": "WPkFffiC-hCt",
        "outputId": "7ba6124f-cb3e-4554-99b0-daeabbd5e668"
      },
      "execution_count": 3,
      "outputs": [
        {
          "output_type": "stream",
          "name": "stdout",
          "text": [
            "The derivative of the function f(x) = sp.cos(2*x) with respect to x is: -2*sin(2*x)\n"
          ]
        }
      ]
    },
    {
      "cell_type": "markdown",
      "source": [
        "6.\\\n",
        "![CodeCogsEqn (5).png](data:image/png;base64,iVBORw0KGgoAAAANSUhEUgAAAFsAAAATBAMAAAANE2yrAAAAMFBMVEX///8AAADu7u6IiIhUVFS6uroyMjKqqqqYmJhERETc3NwQEBAiIiLMzMxmZmZ2dnZogOZuAAAACXBIWXMAAA7EAAAOxAGVKw4bAAABi0lEQVQoFW2QMUjDQBSGf5O2qUmInXVJcREsEoei4qBQJycHpW7t3MWCSKOghBaxg2JxEZwOhIog6uDkVCdxEDoJbi4OdeoiFQfx5ZJrk+gb7r3v///L3QWQLATLpeegEJljA86/25gClNRACkzxvbwDZKFu1M5cWXJyBSgOjDeX+tX8mmMuTMSyXaAI9eGOs4QSqUVonGj06mpsmQ9mgtHJDtSyb0gtCejh1Ue/XQjMwMQw68flSmMHWMWn8L0u4jPbCoMGqLPHK4C9Gd/vUdfoG6E6r9N+5cBaL2wBOj3Rol8Xs+KUpRryssaSW12Cceht5LDG9SZfOzjECOOjZvIWXIxGsoVvrrzwdR5PdtZL6KbXA6t8q5/WvLMzdJ8ypqVRYdNjwvUIOZVmvkYu/c+OlBIZPz64ewlGIy3chImkKd3TY5U21y6FI3oVk4weu8tZLgO1H4abStXz6yImenLhA2rPNjmri0L2+0mEIxix/2yPxK/DbJhhjlKcLh+oo8D878hCaphCFsEvT8JO8I01H8YAAAAASUVORK5CYII=)"
      ],
      "metadata": {
        "id": "AXylP6wv-reW"
      }
    },
    {
      "cell_type": "code",
      "source": [
        "import sympy as sp\n",
        "\n",
        "x = sp.symbols('x')\n",
        "\n",
        "f = 5 * sp.exp(x)\n",
        "\n",
        "df = sp.diff(f, x)\n",
        "\n",
        "print(\"The derivative of the function f(x) = 5 * sp.exp(x) with respect to x is:\", df)"
      ],
      "metadata": {
        "colab": {
          "base_uri": "https://localhost:8080/"
        },
        "id": "WQnYi35V_TCH",
        "outputId": "52551d95-c694-45a0-a496-6f852f69f24f"
      },
      "execution_count": 4,
      "outputs": [
        {
          "output_type": "stream",
          "name": "stdout",
          "text": [
            "The derivative of the function f(x) = 5 * sp.exp(x) with respect to x is: 5*exp(x)\n"
          ]
        }
      ]
    },
    {
      "cell_type": "markdown",
      "source": [
        "Task 2\\\n",
        "Find the derivative value at the point x=4 for the function:\\\n",
        "![CodeCogsEqn (6).png](data:image/png;base64,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)"
      ],
      "metadata": {
        "id": "2pnRSdRG_bSr"
      }
    },
    {
      "cell_type": "code",
      "source": [
        "x = sp.symbols('x')\n",
        "\n",
        "f = 6*x**2 + 2*x + 2008\n",
        "\n",
        "df = sp.diff(f, x)\n",
        "\n",
        "print(\"The derivative of the function f(x) = 6*x**2 + 2*x + 2008 with respect to x is:\", df)\n",
        "\n",
        "derivative_at_point_4 = df.subs(x, 4)\n",
        "\n",
        "print(\"The derived function at x = 4 is:\", derivative_at_point_4)"
      ],
      "metadata": {
        "colab": {
          "base_uri": "https://localhost:8080/"
        },
        "id": "yu5PgVhCBv6b",
        "outputId": "295275a3-e941-4d5d-e897-641307e67091"
      },
      "execution_count": 5,
      "outputs": [
        {
          "output_type": "stream",
          "name": "stdout",
          "text": [
            "The derivative of the function f(x) = 6*x**2 + 2*x + 2008 with respect to x is: 12*x + 2\n",
            "The derived function at x = 4 is: 50\n"
          ]
        }
      ]
    },
    {
      "cell_type": "markdown",
      "source": [
        "Task 3\\\n",
        "Perform differentiation of the function and find the derivative values at the points x=1 and x=−1/2 (if the function is defined at these points):\\\n",
        "1.\\\n",
        "![CodeCogsEqn (7).png](data:image/png;base64,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)"
      ],
      "metadata": {
        "id": "I75O2hH5CfyS"
      }
    },
    {
      "cell_type": "code",
      "source": [
        "import sympy as sp\n",
        "\n",
        "x = sp.symbols('x')\n",
        "\n",
        "f = x**3/3 +x**2/2 - 2*x\n",
        "\n",
        "df = sp.diff(f, x)\n",
        "\n",
        "print(\"The derivative of the function f(x) = x**3/3 +x**2/2 - 2*x with respect to x is:\", df)\n",
        "\n",
        "derivative_at_point_1 = df.subs(x, 1.0)\n",
        "\n",
        "print(\"The derived function at x = 1 is:\", derivative_at_point_1)\n",
        "\n",
        "derivative_at_point_nrgative_half = df.subs(x, -1/2)\n",
        "\n",
        "print(\"The derived function at x = (-1/2) is:\", derivative_at_point_nrgative_half)"
      ],
      "metadata": {
        "colab": {
          "base_uri": "https://localhost:8080/"
        },
        "id": "NDO1JNHXFUqN",
        "outputId": "be0aae0d-8996-4ae8-ff95-65c8954156a4"
      },
      "execution_count": 6,
      "outputs": [
        {
          "output_type": "stream",
          "name": "stdout",
          "text": [
            "The derivative of the function f(x) = x**3/3 +x**2/2 - 2*x with respect to x is: x**2 + x - 2\n",
            "The derived function at x = 1 is: 0\n",
            "The derived function at x = (-1/2) is: -2.25000000000000\n"
          ]
        }
      ]
    },
    {
      "cell_type": "markdown",
      "source": [
        "2.\\\n",
        "![CodeCogsEqn (8).png](data:image/png;base64,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)\n",
        "\\\n",
        " w f'(1) jest 1^1 a powinno być 1^2\n",
        "\n",
        "![CodeCogsEqn (9).png](data:image/png;base64,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)\n"
      ],
      "metadata": {
        "id": "Viu1YQfQGP9m"
      }
    },
    {
      "cell_type": "code",
      "source": [
        "import sympy as sp\n",
        "\n",
        "x = sp.symbols('x')\n",
        "\n",
        "f = sp.sqrt(x**2 + 1)\n",
        "\n",
        "df = sp.diff(f, x)\n",
        "\n",
        "print(\"The derivative of the function f(x) = sp.sqrt(x**2 + 1) with respect to x is:\", df)\n",
        "\n",
        "derivative_at_point_1 = df.subs(x, 1.0)\n",
        "\n",
        "print(\"The derived function at x = 1 is:\", derivative_at_point_1)\n",
        "\n",
        "derivative_at_nrgative_half = df.subs(x, -1/2)\n",
        "\n",
        "print(\"The derived function at x = (-1/2) is:\", derivative_at_nrgative_half)"
      ],
      "metadata": {
        "colab": {
          "base_uri": "https://localhost:8080/"
        },
        "id": "haUAcOGCOa-s",
        "outputId": "fc99619c-9c37-49e3-d337-a4957ecb0fa6"
      },
      "execution_count": 8,
      "outputs": [
        {
          "output_type": "stream",
          "name": "stdout",
          "text": [
            "The derivative of the function f(x) = sp.sqrt(x**2 + 1) with respect to x is: x/sqrt(x**2 + 1)\n",
            "The derived function at x = 1 is: 0.707106781186548\n",
            "The derived function at x = (-1/2) is: -0.447213595499958\n"
          ]
        }
      ]
    },
    {
      "cell_type": "markdown",
      "source": [
        "3.\\\n",
        "![CodeCogsEqn (10).png](data:image/png;base64,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)\n",
        "\\\n",
        "![CodeCogsEqn (11).png](data:image/png;base64,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)"
      ],
      "metadata": {
        "id": "5N7V27bLO9eF"
      }
    },
    {
      "cell_type": "code",
      "source": [
        "import sympy as sp\n",
        "\n",
        "x = sp.symbols('x')\n",
        "\n",
        "f = 1 / sp.sqrt(x**2 + 1)\n",
        "\n",
        "df = sp.diff(f, x)\n",
        "\n",
        "print(\"The derivative of the function f(x) = 1 / sp.sqrt(x**2 + 1) with respect to x is:\", df)\n",
        "\n",
        "derivative_at_1 = df.subs(x, 1.0)\n",
        "\n",
        "print(\"The derived function at x = 1 is:\", derivative_at_1)\n",
        "\n",
        "derivative_at_nrgative_half = df.subs(x, -1/2)\n",
        "\n",
        "print(\"The derived function at x = (-1/2) is:\", derivative_at_nrgative_half)"
      ],
      "metadata": {
        "colab": {
          "base_uri": "https://localhost:8080/"
        },
        "id": "MSk9mlCvV1Sg",
        "outputId": "99a4da16-c649-4d88-a7c9-294770045b3f"
      },
      "execution_count": 9,
      "outputs": [
        {
          "output_type": "stream",
          "name": "stdout",
          "text": [
            "The derivative of the function f(x) = 1 / sp.sqrt(x**2 + 1) with respect to x is: -x/(x**2 + 1)**(3/2)\n",
            "The derived function at x = 1 is: -0.353553390593274\n",
            "The derived function at x = (-1/2) is: 0.357770876399966\n"
          ]
        }
      ]
    }
  ]
}